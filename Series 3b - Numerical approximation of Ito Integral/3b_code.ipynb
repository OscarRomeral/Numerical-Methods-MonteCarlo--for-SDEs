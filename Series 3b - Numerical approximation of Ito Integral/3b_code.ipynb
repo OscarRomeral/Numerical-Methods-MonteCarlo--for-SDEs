{
 "cells": [
  {
   "cell_type": "code",
   "execution_count": 67,
   "id": "6d403187-1c95-4956-8f85-7799375cfd84",
   "metadata": {},
   "outputs": [],
   "source": [
    "import numpy as np\n",
    "from math import sqrt"
   ]
  },
  {
   "cell_type": "code",
   "execution_count": 171,
   "id": "4407f80b-6d4f-4cc9-b7db-3a9a04a98c85",
   "metadata": {},
   "outputs": [],
   "source": [
    "def montecarlo_ito_approx_2(N, M, alpha):\n",
    "    t_partition = np.linspace(0, 1, N+1)[:-1]\n",
    "    \n",
    "    increments = np.random.normal(0, 1, (M, N)) / np.sqrt(N)\n",
    "    W_t = np.cumsum(increments, axis=1)\n",
    "    W_t = np.hstack((np.zeros((M, 1)), W_t))\n",
    "\n",
    "    #Calculation of each of the N iterations in vectorized form to optimize\n",
    "    iter_values = t_partition * W_t[:, :-1] * increments\n",
    "\n",
    "    MC_sum = np.sum(np.sum(iter_values, axis=1) ** alpha) / M\n",
    "\n",
    "    print(f\"For N = {N}, NMC approximation of the Itô Integral: {round(MC_sum, 6)}\")\n",
    "    return MC_sum"
   ]
  },
  {
   "cell_type": "code",
   "execution_count": 173,
   "id": "2f0f3259-b554-409b-9da9-a97ae723b67e",
   "metadata": {},
   "outputs": [
    {
     "name": "stdout",
     "output_type": "stream",
     "text": [
      "Case alpha =  1\n",
      "For N = 4, NMC approximation of the Itô Integral: 0.000534\n",
      "For N = 8, NMC approximation of the Itô Integral: 6e-05\n",
      "For N = 16, NMC approximation of the Itô Integral: -0.00034\n",
      "For N = 32, NMC approximation of the Itô Integral: -0.000129\n",
      "For N = 64, NMC approximation of the Itô Integral: -0.00015\n",
      "For N = 128, NMC approximation of the Itô Integral: -0.001587\n",
      "For N = 256, NMC approximation of the Itô Integral: -0.000873\n",
      "Case alpha =  2\n",
      "For N = 4, NMC approximation of the Itô Integral: 0.140809\n",
      "For N = 8, NMC approximation of the Itô Integral: 0.19079\n",
      "For N = 16, NMC approximation of the Itô Integral: 0.222065\n",
      "For N = 32, NMC approximation of the Itô Integral: 0.233963\n",
      "For N = 64, NMC approximation of the Itô Integral: 0.242886\n",
      "For N = 128, NMC approximation of the Itô Integral: 0.245432\n",
      "For N = 256, NMC approximation of the Itô Integral: 0.247857\n"
     ]
    }
   ],
   "source": [
    "N = [2**i for i in range(2, 9)]\n",
    "M = 1000000\n",
    "alpha = [1, 2]\n",
    "for a in alpha:\n",
    "    print(\"Case alpha = \", a)\n",
    "    for n in N:\n",
    "        montecarlo_ito_approx_2(n, M, a)"
   ]
  }
 ],
 "metadata": {
  "kernelspec": {
   "display_name": "Python 3 (ipykernel)",
   "language": "python",
   "name": "python3"
  },
  "language_info": {
   "codemirror_mode": {
    "name": "ipython",
    "version": 3
   },
   "file_extension": ".py",
   "mimetype": "text/x-python",
   "name": "python",
   "nbconvert_exporter": "python",
   "pygments_lexer": "ipython3",
   "version": "3.12.4"
  }
 },
 "nbformat": 4,
 "nbformat_minor": 5
}
