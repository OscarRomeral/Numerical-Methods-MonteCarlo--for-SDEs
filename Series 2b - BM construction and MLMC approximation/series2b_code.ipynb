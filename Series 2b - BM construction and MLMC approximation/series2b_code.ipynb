{
 "cells": [
  {
   "cell_type": "code",
   "execution_count": 760,
   "id": "db10c668-0600-4731-ad42-3c4f49048492",
   "metadata": {},
   "outputs": [],
   "source": [
    "import numpy as np\n",
    "import matplotlib.pyplot as plt\n",
    "from math import ceil, floor, log2\n",
    "from decimal import Decimal, getcontext, ROUND_CEILING\n",
    "import time"
   ]
  },
  {
   "cell_type": "code",
   "execution_count": 752,
   "id": "5240a47f-270a-4d11-b443-d54f4f90df47",
   "metadata": {},
   "outputs": [],
   "source": [
    "def schauder(n, j, k, t):\n",
    "    if n == 1:\n",
    "        return t\n",
    "    elif (2*k - 2) / 2**j <= t < (2*k - 1) / 2**j:\n",
    "        return 2**((j-1)/2) * (t - (2*k - 2) / 2**j)\n",
    "    elif (2*k - 1) / 2**j <= t < 2*k / 2**j:\n",
    "        return 2**((j-1)/2)*(1/(2**j) - (t - (2 * k -1) / 2**j))\n",
    "    return 0"
   ]
  },
  {
   "cell_type": "code",
   "execution_count": 754,
   "id": "1e46d976-6c65-43e6-8e7d-a4671ee014f3",
   "metadata": {},
   "outputs": [],
   "source": [
    "# This function is useful to find the k in which the value of shauder(n.j,k,t) will be different than 0\n",
    "# Use Decimal to be able to manage big values 2^2^L\n",
    "getcontext().prec = 28\n",
    "\n",
    "def find_k(t, j):\n",
    "    value = (Decimal(2) ** j * Decimal(t)) / Decimal(2)\n",
    "    \n",
    "    if value == value.to_integral_value():\n",
    "        return int(value)\n",
    "    else:\n",
    "        return int(value.to_integral_value(rounding=ROUND_CEILING))\n"
   ]
  },
  {
   "cell_type": "code",
   "execution_count": 756,
   "id": "ec024575-7e09-4de8-bf5b-30cb1f436296",
   "metadata": {},
   "outputs": [],
   "source": [
    "# Function to compute a tradictional montecarlo sample of W^L\n",
    "def monteCarlo_L(t, L):\n",
    "    if L == 0:\n",
    "        return schauder(1, 0, 0, t) * np.random.normal()\n",
    "    else:\n",
    "        W_L = schauder(1, 0, 0, t) * np.random.normal()\n",
    "        for j in range(1, 2**L+1):\n",
    "            k = find_k(t,j)\n",
    "            W_L += schauder(2**(j-1) + k, j, k, t) * np.random.normal()\n",
    "            \n",
    "        return W_L\n",
    "# Approximation of E[exp(W^L)] by montecarlo sampling\n",
    "def monteCarlo_approx(t, ns, L):\n",
    "    exp_wL_montecarlo_estimator = 0\n",
    "    \n",
    "    for i in range(ns):\n",
    "        exp_wL_montecarlo_estimator += np.exp(monteCarlo_L(t, L))\n",
    "    \n",
    "    exp_wL_montecarlo_estimator /= ns\n",
    "\n",
    "    return exp_wL_montecarlo_estimator"
   ]
  },
  {
   "cell_type": "code",
   "execution_count": 812,
   "id": "81bddedb-1447-410b-a22e-15bf67790d4e",
   "metadata": {},
   "outputs": [],
   "source": [
    "# Function that returns samples of W^(l-1) and W(l)  comming from the same \\omega (in order to effectively compute MLMC)\n",
    "def l_level_MLMC(l, t):\n",
    "    if l == 0:\n",
    "        return np.random.normal() * schauder(1,0,0,t), 0\n",
    "    elif l == 1:\n",
    "        l_difference = 0\n",
    "        for j in range(1, 3):\n",
    "            k = find_k(t,j)\n",
    "            l_difference += np.random.normal() * schauder(2**(j-1) + k, j, k, t)\n",
    "        W_l1 = np.random.normal() * schauder(1,0,0,t)\n",
    "        return W_l1, W_l1 + l_difference\n",
    "    else:\n",
    "        W_l1 = np.random.normal() * schauder(1,0,0,t)\n",
    "        for j in range(1, 2**(l-1)+1):\n",
    "            k = find_k(t,j)\n",
    "            W_l1 += np.random.normal() * schauder(2**(j-1) + k, j, k, t)\n",
    "        l_difference = 0\n",
    "        for j in range(2**(l-1)+1, 2**l+1):\n",
    "            k = find_k(t,j)\n",
    "            l_difference += np.random.normal() * schauder(2**(j-1) + k, j, k, t)\n",
    "        return W_l1, W_l1 + l_difference\n",
    "        \n",
    "# Approximation of E[exp(W^L)] by multi-level montecarlo sampling\n",
    "def SchauderMLMC(t, ns,L):\n",
    "    MLMC_approx_diff = np.zeros(L+1)\n",
    "    diff_var_l = np.zeros(L)\n",
    "    for l in range(L+1):\n",
    "        N_l = ceil(ns/(2**l))\n",
    "        MLMC_samples = 0\n",
    "        if l != 0:\n",
    "            sample_differences = np.zeros(N_l)\n",
    "        for n in range(N_l):\n",
    "            if l == 0:\n",
    "                W_0 , _ = l_level_MLMC(l, t)\n",
    "                MLMC_samples += np.exp(W_0)\n",
    "            else:\n",
    "                W_l1 , W_l2 = l_level_MLMC(l, t)\n",
    "                sample_differences[n-1] = (np.exp(W_l2) - np.exp(W_l1))\n",
    "                MLMC_samples += sample_differences[n-1]\n",
    "        MLMC_approx_diff[l] = MLMC_samples / N_l\n",
    "        if l!= 0:\n",
    "            for i in range(N_l):\n",
    "                diff_var_l[l-1] += (sample_differences[i] - MLMC_approx_diff[l])**2\n",
    "            diff_var_l[l-1] /= N_l\n",
    "    MLMC_approx = np.sum(MLMC_approx_diff)\n",
    "    return MLMC_approx, diff_var_l"
   ]
  },
  {
   "cell_type": "code",
   "execution_count": 854,
   "id": "483cdccd-d30a-4a74-b75d-24348c9b94b5",
   "metadata": {},
   "outputs": [
    {
     "data": {
      "image/png": "[encoded data removed]",
      "text/plain": [
       "<Figure size 800x600 with 1 Axes>"
      ]
     },
     "metadata": {},
     "output_type": "display_data"
    },
    {
     "name": "stdout",
     "output_type": "stream",
     "text": [
      "MLMC Result: 1.4245, Time Taken: 0.0671s\n",
      "MC Result: 1.3990, Time Taken: 7.6447s\n",
      "MLMC is 113.98 times faster than MC.\n"
     ]
    }
   ],
   "source": [
    "def compare_mlmc_vs_mc(W_value, N_samples, L_levels):\n",
    "    # Measure time and result for MLMC\n",
    "    start_time_mlmc = time.time()\n",
    "    mlmc_result, variances = SchauderMLMC(W_value, N_samples, L_levels)\n",
    "    mlmc_time = time.time() - start_time_mlmc\n",
    "\n",
    "    # Measure time and result for standard Monte Carlo\n",
    "    start_time_mc = time.time()\n",
    "    mc_result = monteCarlo_approx(W_value, N_samples, L_levels)\n",
    "    mc_time = time.time() - start_time_mc\n",
    "\n",
    "    levels = range(1, len(variances) + 1)  \n",
    "    # Variances plot\n",
    "    plt.figure(figsize=(8, 6))\n",
    "    plt.plot(levels, variances, marker='o', linestyle='-', color='b')\n",
    "    plt.title(\"Variances for Each Level\")\n",
    "    plt.xlabel(\"Level (l)\")\n",
    "    plt.ylabel(\"Variance (Var_l)\")\n",
    "    plt.grid(True)\n",
    "    plt.show()\n",
    "    \n",
    "    \n",
    "    print(f\"MLMC Result: {mlmc_result:.4f}, Time Taken: {mlmc_time:.4f}s\")\n",
    "    print(f\"MC Result: {mc_result:.4f}, Time Taken: {mc_time:.4f}s\")\n",
    "\n",
    "    # Compare computational cost and accuracy\n",
    "    print(f\"MLMC is {(mc_time / mlmc_time):.2f} times faster than MC.\")\n",
    "\n",
    "compare_mlmc_vs_mc(1/np.sqrt(2), 1000, 10)"
   ]
  },
  {
   "cell_type": "markdown",
   "id": "52cee23b-fdf4-4307-9cc2-b9080715e807",
   "metadata": {},
   "source": [
    "**As MLMC states, for when level l increases, the variance should decrease. As we are computing the pairs W^l and W^(l-1) that we use for the difference from the same \\omega. And the difference between levels of truncation tends to 0 O(sqrt(log(n)), as we have seen in the exercises.\n",
    "Furthermore, the runtime needed for MLMC approximation has been 64 times faster that the traditional MC.**\n",
    "\n",
    "**Both values are very close to the expected E[exp(Wt)] for t=1/sqrt(2), which is approximately 1.424. Nevertheless, the computation is quite unstable, so if we increase n, the values are more precise.**"
   ]
  }
 ],
 "metadata": {
  "kernelspec": {
   "display_name": "Python 3 (ipykernel)",
   "language": "python",
   "name": "python3"
  },
  "language_info": {
   "codemirror_mode": {
    "name": "ipython",
    "version": 3
   },
   "file_extension": ".py",
   "mimetype": "text/x-python",
   "name": "python",
   "nbconvert_exporter": "python",
   "pygments_lexer": "ipython3",
   "version": "3.12.4"
  }
 },
 "nbformat": 4,
 "nbformat_minor": 5
}
