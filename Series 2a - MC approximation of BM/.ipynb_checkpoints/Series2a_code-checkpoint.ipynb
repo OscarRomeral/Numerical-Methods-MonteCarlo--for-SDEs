{
 "cells": [
  {
   "cell_type": "markdown",
   "id": "5bfb202e-ce47-4875-acd8-6b3f6f036ea2",
   "metadata": {},
   "source": [
    "**1. a)**"
   ]
  },
  {
   "cell_type": "code",
   "execution_count": 52,
   "id": "f46536ef-358d-46e5-a622-7f49b01007e2",
   "metadata": {},
   "outputs": [],
   "source": [
    "import numpy as np\n",
    "import matplotlib.pyplot as plt\n",
    "\n",
    "def func(x,y):\n",
    "    if (x-2)**2 + y**2 <= 4 and x**2 + (y-2)**2 <= 4:\n",
    "        return abs(x)**(2/3)\n",
    "    else:\n",
    "        return 0\n",
    "    \n",
    "def MonteCarlo(N):    \n",
    "    # Generate N random variables from U(0,1)\n",
    "    y = np.random.uniform(0,1,N)\n",
    "    z = np.random.uniform(0,1,N)\n",
    "\n",
    "    i_N = 0\n",
    "    for i in range(N):\n",
    "        i_N += func(2*y[i],2*z[i])\n",
    "    i_N = i_N * 4 / N\n",
    "\n",
    "    return i_N"
   ]
  },
  {
   "cell_type": "code",
   "execution_count": 56,
   "id": "8d08e8eb-838d-4d74-83f3-99ffbe896929",
   "metadata": {},
   "outputs": [
    {
     "name": "stdout",
     "output_type": "stream",
     "text": [
      "2.15186427080966\n"
     ]
    }
   ],
   "source": [
    "N=1000\n",
    "print(MonteCarlo(N))"
   ]
  },
  {
   "cell_type": "markdown",
   "id": "63cc6a84-5560-4d01-8d5e-90fc85d0ce36",
   "metadata": {},
   "source": [
    "**1.c)**"
   ]
  },
  {
   "cell_type": "code",
   "execution_count": 167,
   "id": "7f44dd5a-0a0d-45d4-9592-35781bbe2ae0",
   "metadata": {},
   "outputs": [],
   "source": [
    "def MonteCarloPlot():\n",
    "    K = [2,3,4,5,6]\n",
    "    realizations = np.zeros((5,5))\n",
    "    for k in range(len(K)):\n",
    "        for j in range(5):\n",
    "            N = 10 ** K[k]\n",
    "            realizations[k][j] = MonteCarlo(N)\n",
    "            \n",
    "    for k in range(len(K)):\n",
    "        plt.scatter([K[k]]*5, realizations[k], color='blue', marker=(5,1), label=f'K={K[k]}' if k == 0 else \"\")  # Scatter each set\n",
    "    plt.xlabel('K')\n",
    "    plt.ylabel('Montecarlo approximation')\n",
    "    plt.title('Monte Carlo Simulation Results')\n",
    "    plt.show()"
   ]
  },
  {
   "cell_type": "code",
   "execution_count": 169,
   "id": "b3185b15-1572-465a-b242-5a17b2a4e22f",
   "metadata": {},
   "outputs": [
    {
     "data": {
      "image/png": "[encoded data removed]",
      "text/plain": [
       "<Figure size 640x480 with 1 Axes>"
      ]
     },
     "metadata": {},
     "output_type": "display_data"
    }
   ],
   "source": [
    "MonteCarloPlot()"
   ]
  },
  {
   "cell_type": "markdown",
   "id": "153e5df8-9397-4bbd-b268-6fdea1888d6e",
   "metadata": {},
   "source": [
    "We can appreciate that, as N increases, the integral montecarlo approximation converges to a value around 2.20."
   ]
  },
  {
   "cell_type": "markdown",
   "id": "30c2e348-294a-4d5b-9d20-5b5def786841",
   "metadata": {},
   "source": [
    "**2.**"
   ]
  },
  {
   "cell_type": "code",
   "execution_count": 182,
   "id": "e2d617a5-08e4-45e7-8ced-c1ab05338a1c",
   "metadata": {},
   "outputs": [
    {
     "ename": "SyntaxError",
     "evalue": "incomplete input (1587548008.py, line 1)",
     "output_type": "error",
     "traceback": [
      "\u001b[1;36m  Cell \u001b[1;32mIn[182], line 1\u001b[1;36m\u001b[0m\n\u001b[1;33m    def StandardBrownianMotion(t):\u001b[0m\n\u001b[1;37m                                  ^\u001b[0m\n\u001b[1;31mSyntaxError\u001b[0m\u001b[1;31m:\u001b[0m incomplete input\n"
     ]
    }
   ],
   "source": [
    "def StandardBrownianMotion(t):\n",
    "    n = len(t)\n",
    "    t_copy = t.copy()\n",
    "\n",
    "    # Order the path in order to construct it mantaining brownian motion conditions\n",
    "    t.sort()\n",
    "\n",
    "    # Generate n random variables that will represent the increments\n",
    "    # The increments are normally distributed with mean 0 and variance (t_j-t_i), with j=i+1\n",
    "    increments = [np.rand.normal()*np.sqrt(t[i+1]-t[i]) for i in range(1, n)]\n",
    "\n",
    "    ordered_path = np.zeros(n+1)\n",
    "    #In brownian motion, covariance matrix always equal to 0\n",
    "    ordered_path[0] = 0\n",
    "\n",
    "\n",
    "\n",
    "    "
   ]
  },
  {
   "cell_type": "code",
   "execution_count": null,
   "id": "862aca0d-2e9e-4e59-9124-2fefc4637fba",
   "metadata": {},
   "outputs": [],
   "source": [
    "# Set random number generator to default (this step is implicit in Python, no need for rng default)\n",
    "np.random.seed(0)  # For reproducibility, you can set a random seed if needed\n",
    "\n",
    "# Define parameters\n",
    "N = 10**3\n",
    "preimage = np.linspace(0, 1, N + 1)  # Time grid from 0 to 1 with N+1 points\n",
    "\n",
    "# Generate and plot realizations of the standard Brownian motion\n",
    "X = StandardBrownianMotion(preimage)\n",
    "plt.plot(preimage, X, 'b', label='BM (blue)')\n",
    "plt.hold = True  # Equivalent to MATLAB's \"hold on\" is the default behavior in Matplotlib\n",
    "\n",
    "X = StandardBrownianMotion(preimage)\n",
    "plt.plot(preimage, X, 'r', label='BM (red)')\n",
    "\n",
    "X = StandardBrownianMotion(preimage)\n",
    "plt.plot(preimage, X, 'g', label='BM (green)')\n",
    "\n",
    "# Add labels and a title\n",
    "plt.xlabel('t')\n",
    "plt.ylabel('X(t)')\n",
    "plt.title('Realizations of Standard Brownian Motion')\n",
    "plt.legend()\n",
    "\n",
    "# Show the plot\n",
    "plt.show()"
   ]
  }
 ],
 "metadata": {
  "kernelspec": {
   "display_name": "Python 3 (ipykernel)",
   "language": "python",
   "name": "python3"
  },
  "language_info": {
   "codemirror_mode": {
    "name": "ipython",
    "version": 3
   },
   "file_extension": ".py",
   "mimetype": "text/x-python",
   "name": "python",
   "nbconvert_exporter": "python",
   "pygments_lexer": "ipython3",
   "version": "3.12.4"
  }
 },
 "nbformat": 4,
 "nbformat_minor": 5
}
