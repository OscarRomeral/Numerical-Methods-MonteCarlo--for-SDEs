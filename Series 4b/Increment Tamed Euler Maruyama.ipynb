{
 "cells": [
  {
   "cell_type": "code",
   "execution_count": 13,
   "id": "be785415-0c3a-419e-9d2d-3dc898c1e2e4",
   "metadata": {},
   "outputs": [],
   "source": [
    "import numpy as np"
   ]
  },
  {
   "cell_type": "code",
   "execution_count": 3,
   "id": "de709611-7847-433d-8d7e-1cd5d4bc4bb1",
   "metadata": {},
   "outputs": [],
   "source": [
    "def IncrementTamed(T, d, m, N, xi, mu, sigma):\n",
    "    delta = T/N\n",
    "\n",
    "    # Generation of the BM increments (noise of m dimensions)\n",
    "    W = np.zeros((N+1, m))  \n",
    "\n",
    "    # Brownian motion paths\n",
    "    for i in range(m):\n",
    "        normal_rv = np.random.normal(0, np.sqrt(delta), N)\n",
    "        W[1:, i] = np.cumsum(normal_rv)\n",
    "\n",
    "    # Initialize Y with the initial condition xi\n",
    "    Y = np.full((1, d), xi)\n",
    "\n",
    "    # Increment-tamed Euler-Maruyama iteration\n",
    "    for i in range(N):\n",
    "        #The increments as column, as sigma is dxm dimensional and the noise is m dimensional\n",
    "        dW = (W[i + 1, :] - W[i, :]).reshape(-1,1)  \n",
    "        mu = mu(Y)\n",
    "        sigma = sigma(Y)\n",
    "        scaled_norm = np.linalg.norm(mu * delta + sigma * dW) * delta\n",
    "        if  norm <= 1:\n",
    "            Y = Y + mu * delta + sigma * dW\n",
    "        else:\n",
    "            Y = Y + (mu * delta + sigma * dW) / scaled_norm\n",
    "    return Y\n"
   ]
  }
 ],
 "metadata": {
  "kernelspec": {
   "display_name": "Python 3 (ipykernel)",
   "language": "python",
   "name": "python3"
  },
  "language_info": {
   "codemirror_mode": {
    "name": "ipython",
    "version": 3
   },
   "file_extension": ".py",
   "mimetype": "text/x-python",
   "name": "python",
   "nbconvert_exporter": "python",
   "pygments_lexer": "ipython3",
   "version": "3.12.4"
  }
 },
 "nbformat": 4,
 "nbformat_minor": 5
}
